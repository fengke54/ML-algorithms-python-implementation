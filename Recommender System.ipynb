{
 "cells": [
  {
   "cell_type": "code",
   "execution_count": 1,
   "metadata": {},
   "outputs": [],
   "source": [
    "#Ke Feng\n",
    "#DSC478 Machine Learning Programming \n",
    "#Assignment 4 Question 2"
   ]
  },
  {
   "cell_type": "code",
   "execution_count": 65,
   "metadata": {},
   "outputs": [],
   "source": [
    "#import libraries\n",
    "import pandas as pd\n",
    "import matplotlib.pyplot as plt\n",
    "import numpy as np\n",
    "from numpy import linalg as la\n",
    "from numpy import * "
   ]
  },
  {
   "cell_type": "code",
   "execution_count": 66,
   "metadata": {},
   "outputs": [
    {
     "data": {
      "text/plain": [
       "array([[ 3.18, 19.79,  1.34, ...,  0.  ,  0.  ,  0.  ],\n",
       "       [15.08, 10.71, 17.36, ..., 11.34,  6.68, 12.07],\n",
       "       [ 0.  ,  0.  ,  0.  , ...,  0.  ,  0.  ,  0.  ],\n",
       "       ...,\n",
       "       [16.58, 16.63, 15.85, ...,  0.  ,  0.  ,  0.  ],\n",
       "       [ 3.67,  4.45,  3.67, ...,  3.77,  3.77,  3.28],\n",
       "       [ 9.88, 11.73,  9.16, ...,  0.  ,  0.  ,  0.  ]])"
      ]
     },
     "execution_count": 66,
     "metadata": {},
     "output_type": "execute_result"
    }
   ],
   "source": [
    "###a. Load the data (Two files in correct format)\n",
    "#load the text data\n",
    "jdf = np.genfromtxt(\"mjd.csv\", delimiter=',')\n",
    "jdf"
   ]
  },
  {
   "cell_type": "code",
   "execution_count": 67,
   "metadata": {},
   "outputs": [
    {
     "data": {
      "text/plain": [
       "array(['A man visits the doctor. The doctor says \"I have bad news for you.You have cancer and Alzheimer\\'s disease\". The man replies \"Well thank God I don\\'t have cancer!\"',\n",
       "       'This couple had an excellent relationship going until one day he came home from work to find his girlfriend packing. He asked her why she was leaving him and she told him that she had heard awful things about him. \"What could they possibly have said to make you move out?\" \"They told me that you were a pedophile.\" He replied \"That\\'s an awfully big word for a ten year old.\"',\n",
       "       \"Q. What's 200 feet long and has 4 teeth? A. The front row at a Willie Nelson Concert.\",\n",
       "       \"Q. What's the difference between a man and a toilet? A. A toilet doesn't follow you around after you use it.\",\n",
       "       \"Q. What's O. J. Simpson's Internet address? A.\\tSlash slash backslash slash slash escape.\",\n",
       "       \"Bill & Hillary are on a trip back to Arkansas. They're almost out of gas so Bill pulls into a service station on the outskirts of town. The attendant runs out of the station to serve them when Hillary realizes it's an old boyfriend from high school. She and the attendant chat as he gases up their car and cleans the windows. Then they all say good-bye. As Bill pulls the car onto the road he turns to Hillary and says 'Now aren't you glad you married me and not him ? You could've been the wife of a grease monkey !' To which Hillary replied 'No Bill. If I would have married him you'd be pumping gas and he would be the President !'\",\n",
       "       \"How many feminists does it take to screw in a light bulb?That's not funny.\",\n",
       "       'Q. Did you hear about the dyslexic devil worshipper? A. He sold his soul to Santa.',\n",
       "       'A country guy goes into a city bar that has a dress code and the maitred\\' demands he wear a tie. Discouraged the guy goes to his car to sulk when inspiration strikes: He\\'s got jumper cables in the trunk! So he wraps them around his neck sort of like a string tie (a bulky string tie to be sure) and returns to the bar. The maitre d\\' is reluctant but says to the guy \"Okay you\\'re a pretty resourceful fellow you can come in... but just don\\'t start anything\"!',\n",
       "       'Two cannibals are eating a clown one turns to other and says: \"Does this taste funny to you?',\n",
       "       \"Q. What do a hurricane a tornado and a redneck divorce all have in common? A. Someone's going to lose their trailer...\",\n",
       "       'A guy stood over his tee shot for what seemed an eternity looking up looking down measuring the distance figuring the wind direction and speed. Driving his partner nuts.Finally his exasperated partner says \"What the hell is taking so long? Hit the goddamn ball!\"The guy answers \"My wife is up there watching me from the clubhouse. I want to make this a perfect shot.\"\"Well hell man you don\\'t stand a snowball\\'s chance in hell of hitting her from here!\"',\n",
       "       'They asked the Japanese visitor if they have elections in his country.  \"Every Morning\" he answers.',\n",
       "       'The father was very anxious to marry off his only daughter so he wanted to impress her date. \"Do  you like to screw\" he says. \"Huh\" replied the surprised first date. \"My daughter she loves to screw and she\\'s good at it you and her  should go screw\" carefully explained the father. Now very interested the boy replied \"Yes sir.\" Minutes later the girl came down the stairs kissed her father goodbye and the couple left. After only a few minutes she reappeared furious dress torn hair a mess and screamed\"Dammit Daddy it\\'s the TWIST get it straight!\"',\n",
       "       'Q:  What did the blind person say when given some matzah?A:  Who the hell wrote this?',\n",
       "       'Q. What is orange and sounds like a parrot?  A. A carrot.',\n",
       "       'How many men does it take to screw in a light bulb? One...men will screw anything.',\n",
       "       'A dog walks into Western Union and asks the clerk to send a telegram. He fills out a form on which he writes down the telegram he wishes to send: \"Bow wow wow Bow wow wow.\"The clerk says \"You can add another \\'Bow wow\\' for the same price.\"The dog responded \"Now wouldn\\'t that sound a little silly?\"',\n",
       "       'Q: If a person who speaks three languages is called \"tri-lingual\" and a person who speaks two languages is called \"bi-lingual\" what do calla person who only speaks one language?A: American!',\n",
       "       \"What's the difference between a MacIntosh and anEtch-A-Sketch? You don't have to shake the Mac to clear the screen.\",\n",
       "       \"What's the difference between a used tire and 365 used condoms?One's a Goodyear the other's a great year.\",\n",
       "       'A duck walks into a pharmacy and asks for a condom. The pharmacist says\"Would you like me to stick that on your bill?\"The duck says: \"What kind of duck do you think I am!\"',\n",
       "       \"Q: What is the Australian word for a boomerang that won't   come back? A: A stick\",\n",
       "       'What do you get when you run over a parakeet with a lawnmower? Shredded tweet.',\n",
       "       'Two kindergarten girls were talking outside: one said \"You won\\'t believe what I saw on the patio yesterday--a condom!\"The second girl asked \"What\\'s a patio?\"',\n",
       "       'A guy walks into a bar and sits down next to an extremely gorgeous woman.  The first thing he notices about her though are her pants.  They were skin-tight high-waisted and had no obvious mechanism (zipper buttons or velcro) for opening them.After several minutes of puzzling over how she got the pants up over her hips he finally worked up the nerve to ask her.  \"Excuse me miss but how do you get into your pants?\"\"Well\" she replied \"you can start by buying me a drink.\"',\n",
       "       'Clinton returns from a vacation in Arkansas and walks down  the steps of Air Force One with two pigs under his arms.  At the bottom of the steps he says  to the honor guardsman \"These are genuineArkansas Razor-Back Hogs.  I got this one for Chelsea and this one forHillary.\"  The guardsman replies \"Nice trade Sir.\"',\n",
       "       'A mechanical electrical and a software engineer from Microsoft were driving through the desert when the car broke down. The mechanical engineer said \"It seems to be a problem with the fuel injection system why don\\'t we pop the hood and I\\'ll take a look at it.\" To which the electrical engineer replied \"No I think it\\'s just a loose ground wireI\\'ll get out and take a look.\" Then the Microsoft engineer jumps in.\"No no no. If we just close up all the windows get out wait a few minutes get back in and then reopen the windows everything will work fine.\"',\n",
       "       'An old Scotsmen is sitting with a younger Scottish gentleman and says the boy. \"Ah lad look out that window. You see that stone wall there I built it with me own bare hands placed every stone meself.  But do they call me MacGregor the wall builder? No! He Takes a few sips of his beer then says \"Aye and look out on that lake and eye that beautiful pier. I built it meself laid every board and hammered each nail but do they call me MacGregor the pier builder? No! He continues...\"And lad you see that road? That too I build with me own bare hands. Laid every inch of pavement meself but do they call MacGregor the roadbuilder? No!\"Again he returns to his beer for a few sips then says \"Agh but you screw one sheep...\"',\n",
       "       \"Q: What's the difference between a Lawyer and a Plumber? A: A Plumber works to unclog the system.\",\n",
       "       ' President Clinton looks up from his desk in the Oval Office to see one of his aides nervously approach him.  \"What is it?\" exclaims the President. \"It\\'s this Abortion Bill Mr. President what do you want to do about it?\" the aide replies. \"Just go ahead and pay it.\" responds the President.',\n",
       "       'A man arrives at the gates of heaven. St. Peter asks \"Religion?\" The man says \"Methodist.\" St. Peter looks down his list and says \"Go to room 24 but be very quiet as you pass room 8.\" Another man arrives at the gates of heaven. \"Religion?\"\"Baptist.\" \"Go to room 18 but be very quiet as you pass room 8.\" A third man arrives at the gates. \"Religion?\" \"Jewish.\"\"Go to room 11 but be very quiet as you pass room 8.\" The man says \"I can understand there being different rooms for different religions but why must I be quiet when I pass room 8?\" St. Peter tells him \"Well the Catholics are in room 8 and they think they\\'re the only ones here.',\n",
       "       'What do you call an American in the finals of the world cup?\"Hey Beer Man!\"',\n",
       "       'Out in the backwoods of some midwestern state little Johnny arrives at school an hour late.Teacher: \"Why are you so late John? \"Johny : \"My big brother got shot in the ass.\"(the teacher corrects his speech)Teacher: \"Rectum.\"Johnny : \"Wrecked him!? Hell It damn near killed him!\"',\n",
       "       'An explorer in the deepest Amazon suddenly finds himself surrounded by a bloodthirsty group of natives. Upon surveying the situation he says quietly to himself \"Oh God I\\'m screwed.\" The sky darkens and a voice booms out \"No you are NOTscrewed. Pick up that stone at your feet and bash in the head of the chief standing in front of you.\" So with the stone he bashes the life out of the chief. Standing above the lifeless body breathing heavily looking at 100 angry natives... The voice booms out again \"Okay ..... NOW you\\'re screwed.\"',\n",
       "       'A guy walks into a bar orders a beer and says to the bartender\"Hey I got this great Polish Joke...\" The barkeep glares at him and says in a warning tone of voice:\"Before you go telling that joke you better know that I\\'m Polish both bouncers are Polish and so are most of my customers\"\"Okay\" says the customer\"I\\'ll tell it very slowly.\"',\n",
       "       'A Jewish young man was seeing a psychiatrist for an eating and sleeping disorder. \"I am so obsessed with my mother... As soon as I go to sleep I start dreaming and everyone in my dream turns into my mother. I wake up in such a state all I can do is go downstairs and eat a piece of toast.\"The psychiatrist replies:\"What just one piece of toast for a big boy like you?\"',\n",
       "       '\"May I take your order?\" the waiter asked. \"Yes how do you prepare your chickens?\" \"Nothing special sir\" he replied. \"We just tell them straight out that they\\'re going to die.\"',\n",
       "       'What is the difference between men and women:A woman wants one man to satisfy her every need.A man wants every woman to satisfy his one need.',\n",
       "       'How many Irishmen does it take to change a light bulb?Two one to hold the lightbulb and the other to drink until the room spins.',\n",
       "       'What does an atheist say during an orgasm?\"Oh Darwin! Oh Darwin!...\"',\n",
       "       'Two men are discussing the age old question: who enjoys sex more the man or the woman?  A woman walks by and listens in for awhile and then interrupts: \"Listen you guys. You know when your ear itches and you put in your little finger and wiggle it around for awhile?  Afterward which feels better your finger or your ear?\"',\n",
       "       'Arnold Swartzeneger and Sylvester Stallone are making a movie about the lives of the great composers.  Stallone says \"I want to be Mozart.\" Swartzeneger says: \"In that case...  I\\'ll be Bach.\"',\n",
       "       'A horse walks into a bar. Bartender says:\"So why the long face?\"',\n",
       "       'A boy comes home from school and tells his mother that he got a part in the school play.  \"What part?\" the mother asked. \"I play a Jewish husband\" the boy replied.  \"Go back to school and tell your teacher that you want a speaking role!\"',\n",
       "       'A couple has been married for 75 years. For the husband\\'s 95thbirthday his wife decides to surprise him by hiring a prostitute.That day the doorbell rings. The husband uses his walker to get to the door and opens it. A 21-year-old in a latex outfit smiles and says \"Hi I here to give you super sex!\" The old man says \"I\\'ll take the soup.\"',\n",
       "       'There was an engineer who had an exceptional gift for fixing all things mechanical.  After serving his company loyally for over 30 years he happily retired.  Several years later the company contacted him regarding a seemingly impossible problem they were having with one of their multi-million dollar machines. They had tried everything and everyone else to get the machine fixed but to no avail.  In desperation they called on the retired engineer who had solved so many of their problems in the past.The engineer reluctantly took the challenge.  He spent a day studying the huge machine.  At the end of the day he marked a small \"x\" in chalk on a particular component of the machine and proudly stated \"This is where your problem is\".The part was replaced and the machine worked perfectly again. The company received a bill for $50000 from the engineer for his service.They demanded an itemized accounting of his charges. The engineer responded briefly:One chalk mark                       $1 Knowing where to put it            $49999It was paid in full and the engineer retired again in peace.',\n",
       "       'The graduate with a Science degree asks \"Why does it work?\"The graduate with an Engineering degree asks \"How does it work?\"The graduate with an Accounting degree Asks \"How much will it cost?\" The graduate with a  Liberal Arts degree asks \"Do you want fries with  that?\"',\n",
       "       'Three engineering students were gathered together discussing the possible designers of the human body.  One said \"It was a mechanical engineer. Just look at all the joints.\"  Another said \"No it was an electrical engineer.  The nervous systems many thousands of electrical connections.\"  The last said \"Actually it was a civil engineer. Who else would run a toxic waste pipeline through a recreational area?\"',\n",
       "       'A guy goes into confession and says to the priest \"Father I\\'m 80 years old widower with 11 grandchildren. Last night I met two beautiful flight attendants. They took me home and I made love to both of them. Twice.\"The priest said: \"Well my son when was the last time you were in confession?\" \"Never Father I\\'m Jewish.\" \"So then why are you telling me?\" \"I\\'m telling everybody.\"',\n",
       "       'Did you hear that Clinton has announced there is a new national bird?  The spread eagle.',\n",
       "       'Q: What do Monica Lewinsky and Bob Dole have in common?A: They were both upset when Bill finished first.',\n",
       "       'One Sunday morning William burst into the living room and said\"Dad! Mom! I have some great news for you! I am getting married to the most beautiful girl in town. She lives a block away and her name is Susan.\"After dinner William\\'s dad took him aside. \"Son I have to talk with you. Your mother and I have been married 30 years.. She\\'s a wonderful wife but she has never offered much excitement in the bedroom so I used to fool around with women a lot. Susan is actually your half-sister and I\\'m afraid you can\\'t marry her.\"William was heart-broken. After eight months he eventually started dating girls again. A year later he came home and very proudly announced \"Dianne said yes! We\\'re getting married inJune.\"Again his father insisted on another private conversation and broke the sad news. \"Dianne is your half-sister too William. I\\'m awfully sorry about this.\"William was furious! He finally decided to go to his mother with the news.\"Dad has done so much harm.. I guess I\\'m never going to get married\"  he complained. \"Every time I fall in love Dad tells me the girl is my half-sister.\"His mother just shook her head. \"Don\\'t pay any attention to what he says dear. He\\'s not really your father.\"',\n",
       "       'The Pope dies and naturally goes to heaven. He\\'s met by the reception committee and after a whirlwind tour he is told that he can enjoy any of the myriad of recreations available.He decides that he wants to read all of the ancient original text of theHoly Scriptures so he spends the next eon or so learning languages.After becoming a linguistic master he sits down in the library and begins to pour over every version of the Bible working back from most recent \"Easy Reading\" to the original script.All of a sudden there is a scream in the library. The Angels come running in only to find the Pope huddled in his chair crying to himself and muttering \"An \\'R\\'! The scribes left out the \\'R\\'.\" A particularly concerned Angel takes him aside offering comfort asks him what the problem is and what does he mean. After collecting his wits the Pope sobs again \"It\\'s the letter \\'R\\'. They left out the \\'R\\'.The word was supposed to be CELEBRATE!\"',\n",
       "       'A woman has twins and gives them up for adoption.  One of them goes to a family in Egypt and is named \"Amal.\"  The other goes to a  family in Spain; they name him \"Juan.\"  Years later Juan sends a picture of himself to his mom.  Upon receiving the picture she tells her husband that she wishes she also had a picture of Amal.  Her husband responds \"But they are twins-if you\\'ve seen Juan you\\'ve seen   Amal.',\n",
       "       'A man and Cindy Crawford get stranded on a desert island.  After a couple of days they fall in love and start sleeping together.  Time pass the man seems frustrated Cindy asks if there is anything she can do?  He says there is one thing \"Could you put on this baseball cap and go to the other side of the island and answer me when I call you Bob?\"  She agrees.  Next day he is walking on the other side of the island runs into her and says \"Hi Bob!\"  She says \"Hello what\\'s up?\"  He replies: \"Bob you won\\'t believe it: I\\'ve been sleeping with CindyCrawford for the past two weeks!!!!\"',\n",
       "       \"Why are there so many Jones's in the phone book?Because they all have phones.\",\n",
       "       'How many teddy bears does it take to change a lightbulb?It takes only one teddybear but it takes a whole lot of lightbulbs.',\n",
       "       'The Chukcha (Russian Eskimo) phones up the Russian Parliament Building.  A guard answers. Chukcha:  \"What is required to become Parliament member?\"Guard:  \"What are you an idiot?\"Chukcha:  \"Is it required?\"',\n",
       "       'What did the Buddhist say to the hot dog vendor?Make me one with everything.',\n",
       "       'During a recent publicity outing Hillary sneaked off to visit a fortune teller of some local repute.  In a dark and hazy room peering into a crystal ball the mystic delivered grave news.\"There\\'s no easy way to say this so I\\'ll just be blunt: Prepare yourself to be a widow.  Your husband will die a violent and horrible death this year.\"Visibly shaken Hillary stared at the woman\\'s lined face then at the single flickering candle then down at her hands.  She took a few deep breaths to compose herself.  She simply had to know.  She met the fortune teller\\'s gaze steadied her voice and asked her question.\"Will I be acquitted?\"',\n",
       "       'A group of  managers were given the assignment to measure the height of a flagpole. So they go out to the flagpole with ladders and tape measures and they\\'re falling off the ladders dropping the tape measures - the whole thing is just a mess.An engineer comes along and sees what they\\'re trying to do walks over pulls the flagpole out of the ground lays it flat measures it from end to end gives the measurement to one of the managers and walks away.After the engineer has gone one manager turns to another and laughs. \"Isn\\'t that just like an engineer we\\'re looking for the height and he gives us the length.\"',\n",
       "       'An engineer a physicist and a mathematician are sleeping in a room. There is a fire in the room. The engineer wakes up sees the firepicks up the bucket of water and douses the fire and goes back to sleep. Again there is fire in the room. This time the physicist wakes up notices the bucket fills it with water calculates the optimal trajectory and douses the fire in minimum amount of water and goes back to sleep. Again there is fire. This time the mathematician wakes up. He looks at the fire looks at the bucket and the water and exclaims \"A solution exists\" and goes back to sleep.',\n",
       "       'What is the rallying cry of the International Dyslexic Pride movement? Dyslexics Untie!',\n",
       "       'Two Rednecks were seated at the end of a bar when a young lady seated a few stools up began to choke on a piece of hamburger.  She was turning blue and obviously in serious respiratory distress.One said to the other \"That gal there is having a bad time!\" The other agreed and said \"Think we should go help?\"  \"You bet\" said the first and with that he ran over and said \"Can you breathe??\"  She shook her head no.  He said \"Can you speak??\"  She again shook her head no.With that he pulled up her skirt and licked her on the butt.She was so shocked she coughed up the obstruction and began to breathe-with great relief.The redneck walked back to his friend and said \"Funny how that hind lick maneuver always works.\"',\n",
       "       'A lawyer opened the door of his BMW when suddenly a car came along and hit the door ripping it off completely.  When the police arrived at the scene the lawyer was complaining bitterly about the damage to his precious BMW.  \"Officer look what they\\'ve done to my Beeeeemer!!!\" he whined.  \"You lawyers are so materialistic you make me sick!!!\"  retorted the officer.  \"You\\'re so worried about your stupid BMW that you didn\\'t even notice that your left arm was ripped off!!!\"  \"Oh my gaaaad...\" replied the lawyer finally noticing the bloody left shoulder where his arm once was.  \"Where\\'s myRolex???!!!!\"',\n",
       "       'Once upon a time two brooms fell in love and decided to get married.Before the ceremony the bride broom informed the groom broom that she was expecting a little whiskbroom. The groom broom was aghast!\"How is this possible?\" he asked. \"We\\'ve never swept together!',\n",
       "       'A man piloting a hot air balloon discovers he has wandered off course and is hopelessly lost. He descends to a lower altitude and locates a man down on the ground. He lowers the balloon further and shouts \"Excuse me can you tell me where I am?\"The man below says: \"Yes you\\'re in a hot air balloon about 30 feet above this field.\"\"You must work in Information Technology\" says the balloonist.\"Yes I do\" replies the man. \"And how did you know that?\"\"Well\" says the balloonist \"what you told me is technically correct but of no use to anyone.\"The man below says \"You must work in management.\"\"I do\" replies the balloonist \"how did you know?\"\"Well\" says the man \"you don\\'t know where you are or where you\\'re going but you expect my immediate help. You\\'re in the same position you were before we met but now it\\'s my fault!\"',\n",
       "       'This guys wife asks \"Honey if I died would you remarry?\" and he replies \"Well after a considerable period of grieving we all need companionship I guess I would.\"She then asks \"If I died and you remarried would she live in this house?\" and he replies \"We\\'ve spent a lot of time and money getting this house just the way we want it. I\\'m not going to get rid of my house I guess she would.\"\"If I died and you remarried and she lived in this house would she sleep in our bed?\" and he says \"That bed is brand new we just paid two thousand dollars for it it\\'s going to last a long time I guess she would.\"So she asks \"If I died and you remarried and she lived in this house and slept in our bed would she use my golf clubs?\"\"Oh no she\\'s left handed.\"',\n",
       "       'Employer to applicant: \"In this job we need someone who is responsible.\"Applicant: \"I\\'m the one you want. On my last job every time anything went wrong they said I was responsible.\"',\n",
       "       'At a recent Sacramento PC Users Group meeting a company was demonstrating its latest speech-recognition software.   A representative from the company was just about ready to start the demonstration and asked everyone in the room to quiet down.Just then someone in the back of the room yelled\"Format C: Return.\"Someone else chimed in:\"Yes Return\"Unfortunately the software worked.',\n",
       "       'On the first day of college the Dean addressed the students pointing out some of the rules:\"The female dormitory will be out-of-bounds for all male students and the male dormitory to the female students. Anybody caught breaking this rule will be fined $20 the first time.\" He continued \"Anybody caught breaking this rule the second time will be fined $60. Being caught a third time will cost you a fine of $180. Are there any questions ?\"At this point a male student in the crowd inquired:\"How much for a season pass ?\"',\n",
       "       \"Q: What is the difference between George  Washington Richard Nixon and Bill Clinton? A: Washington couldn't tell a lie Nixon couldn't   tell the truth andClinton doesn't know the difference.\",\n",
       "       'Q: How many stalkers does it take to change a light bulb?A: Two. One to replace the bulb and the other to watch it day and night.',\n",
       "       'Q: Do you know the difference between an intelligent male and theSasquatch? A: There have been actual reported sightings of the Sasquatch.',\n",
       "       \"There once was a man and a woman that both  got in  a terrible car wreck. Both of their vehicles  were completely destroyed buy fortunately no one  was   hurt.  In thankfulness the woman said to the man 'We are both okay so we should celebrate. I have   a  bottle of wine in my car let's open it.' So the woman got the bottle out of the car and  handed it to the man. The man took a really big drink and handed the woman the bottle. The  woman  closed the bottle and put it down. The man  asked  'Aren't you going to take a drink?' The woman cleverly replied 'No I think I'll  just  wait for the cops to get here.'\",\n",
       "       'If pro- is the opposite of con- then congress must be the opposite of progress.',\n",
       "       \"Q: What's the difference between the government  and  the Mafia? A: One of them is organized.\",\n",
       "       'Q: Ever wonder why the IRS calls it Form 1040?A: Because for every $50 that you earn you get 10 and they get 40.',\n",
       "       'Hillary Bill Clinton and the Pope are sitting together on an airplane. Bill says \"I could throw one thousand dollar bill out of this plane and make one person very happy.\"Hillary says \"I could throw 10 hundred dollar bills out of the plane and make 10 people very happy.\"The Pope chips in and says \"I could throw Bill out of the airplane and make the whole country happy.\"',\n",
       "       'An Asian man goes into a New York CityBank to exchange 10000 yen forAmerican Currency.  The teller gives him $72.00.  The next month theAsian man goes into the same bank with 10000 yen and receives $62.00.He asks \"How come? Only $62.00?\" The teller says \"Fluctuations-Fluctuations!\"Whereupon the Asian man looks back at the teller and says \"Fluk youAmelicans too!\"',\n",
       "       'Q: How do you keep a computer programmer in the shower all day long?A: Give them a shampoo with a label that says\"rinse lather repeat\".',\n",
       "       'What a woman says:\"This place is a mess!  C\\'monYou and I need to clean upYour stuff is lying on the floor and you\\'ll have no clothes to wear if we don\\'t do laundry right now!\"What a man hears:blah blah blah blah C\\'mon blah blah blah blah you and I blah blah blah blah on the floor blah blah blah blah no clothes blah blah blah blah RIGHT NOW!',\n",
       "       'Q: What is the difference between Mechanical Engineers and Civil Engineers? A: Mechanical Engineers build weapons Civil Engineers build targets.',\n",
       "       'Q: How many Presidents does it take to screw in a light bulb?A: It depends upon your definition of screwing a light bulb.',\n",
       "       'A neutron walks into a bar and orders a drink.\"How much do I owe you?\" the neutron asks.The bartender replies \"for you no charge.\"',\n",
       "       'A man recently completing a routine physical examination receives a phone call from his doctor.  The doctor says \"I have some good news and some bad news.\"  The man says \"OK give me the good news first.\"  The doctor says \"The good news is you have 24 hours to live.\"  The man replies \"Shit!  That\\'s the good news?  Then what\\'s the bad news?\"The doctor says \"The bad news is I forgot to call you yesterday.\"',\n",
       "       'A Czechoslovakian man felt his eyesight was growing steadily worse and felt it was time to go see an optometrist. The doctor started with some simple testing and showed him a standard eye chart with letters of diminishing size: CRKBNWXSKZY. . . \"Can you read this?\" the doctor asked. \"Read it?\" the Czech answered. \"Doc I know him!\"',\n",
       "       \"A radio conversation of a US naval ship with Canadian authorities ... Americans: Please divert your course 15 degrees to the North to avoid a collision.Canadians: Recommend you divert YOUR course 15 degrees to the South to avoid a collision.Americans: This is the Captain of a US Navy ship.  I say again divert YOUR course.Canadians: No.  I say again you divert YOUR course.Americans: This is the aircraft carrier USS LINCOLN the second largest ship in the United States' Atlantic Fleet. We are accompanied by three destroyers three cruisers and numerous support vessels. I demand that you change your course 15 degrees north that's ONE FIVE DEGREES NORTH or counter-measures will be undertaken to ensure the safety of this ship.Canadians: This is a lighthouse.  Your call.\",\n",
       "       \"Q: How many programmers does it take to change a lightbulb?A: NONE!   That's a hardware problem....\",\n",
       "       'A Panda bear walks into a bar.  Sits down at a table and orders a beer and a double cheeseburger.  After he is finished eating he pulls out a gun and rips the place with gunfire.  Patrons scatter and dive under chairs and tables as the bear runs out the door.  After ensuring that no one is hurt the bartender races out the door and calls after the bear \"What the hell did you do that for?\"  The bear calls back \"I\\'m a Panda bear.  Look it up in the dictionary.\"  The bartender returns pulls out his dictionary.panda : \\\\Pan\"da\\\\ n. (Zo[\"o]l.)A small Asiatic mammal (Ailurus fulgens) having fine soft fur.It is related to the bears and inhabits the mountains of Northern India.Eats shoots and leaves.',\n",
       "       'Early one morning a mother went to her sleeping son and woke him up.\"Wake up son.  It\\'s time to go to school.\" \"But why Mama?  I don\\'t want to go to school.\" \"Give me two reasons why you don\\'t want to go to school.\" \"One all the children hate me. Two all the teachers hate me\" \"Oh! that\\'s no reason. Come on you have to go to school\" \"Give me two good reasons WHY I should go to school?\"  \"One you are fifty-two years old. Two you are the principal of the school.\"',\n",
       "       'Reaching the end of a job interview the human resources person asked a young engineer fresh out of Stanford\"And what starting salary were you looking for?\"The engineer said \"In the neighborhood of $125000 a year depending on the benefits package.\"The interviewer said \"Well what would you say to a package of 5-weeks vacation 14 paid holidays full medical and dental company matching retirement fund to 50% of salary and a company car leased every 2 years - say a red Corvette?\"The Engineer sat up straight and said \"Wow! Are you kidding?\"And the interviewer replied \"Yeah but you started it.\"',\n",
       "       'Two atoms are walking down the street when one atom says to the other \"Oh my! I\\'ve lost an electron!\"The second atom says\"Are you sure\"The first replies \"I\\'m positive!\"',\n",
       "       'Just a thought ..Before criticizing someone walk a mile in their shoes.  Then when you do criticize them you will be a mile away and have their shoes !',\n",
       "       'Two attorneys went into a diner and ordered two drinks.  Then they produced sandwiches from their briefcases and started to eat.  The owner became quite concerned and marched over and told them \"You can\\'t eat your own sandwiches in here!\"The attorneys looked at each other shrugged their shoulders and then exchanged sandwiches.',\n",
       "       'A teacher is explaining to her class how different languages use negatives differently.  She says \"In all languages a positive followed by a negative or a negative followed by a positive makes a negative.  In some languages two negatives together make a positive while in others they make a negative.  But in no language do two positives make a negative.\"  One of the students puts up his hand and says \"Yeah right.\"',\n",
       "       \"Age and Womanhood1. Between the ages of 13 and 18 ... She is like Africa virgin and unexplored. 2. Between the ages of 19 and 35 ... She is like Asia hot and exotic. 3. Between the ages of 36 and 45 ... She is like America fully explored breathtakingly beautiful and free with her resources.4. Between the ages of 46 and 56 ...She is like Europe exhausted but still has points of interest. 5. After 56 she is like Australia ...Everybody knows it's down there but who gives a damn?\",\n",
       "       'A bus station is where a bus stops.A train station is where a train stops.On my desk I have a work station...',\n",
       "       \"Q: What's the difference between greeting a Queen and greeting thePresident of the United  States?A: You only have to get on one knee to greet the queen.\"],\n",
       "      dtype='<U1198')"
      ]
     },
     "execution_count": 67,
     "metadata": {},
     "output_type": "execute_result"
    }
   ],
   "source": [
    "#Load the joke data\n",
    "joke = load_jokes(\"jokes.csv\")\n",
    "joke"
   ]
  },
  {
   "cell_type": "code",
   "execution_count": 68,
   "metadata": {},
   "outputs": [
    {
     "data": {
      "text/plain": [
       "' See example output below:\\n\\nSelected joke: \\n\\nQ. What\\'s the difference between a man and a toilet? A. A toilet doesn\\'t follow you around after you use it.\\n\\nTop 5 Recommended jokes are :\\n\\nQ: What\\'s the difference between a Lawyer and a Plumber? A: A Plumber works to unclog the system. \\n_______________\\nWhat do you call an American in the finals of the world cup? \"Hey Beer Man!\" \\n_______________\\nQ. What\\'s 200 feet long and has 4 teeth? <P>A. The front row at a Willie Nelson Concert. \\n_______________\\nA country guy goes into a city bar that has a dress code and the maitred\\' demands he wear a tie. Discouraged the guy goes to his car to sulk when inspiration strikes: He\\'s got jumper cables in the trunk! So he wrapsthem around his neck sort of like a string tie (a bulky string tie to be sure) and returns to the bar. The maitre d\\' is reluctant but says to the guy \"Okay you\\'re a pretty resourceful fellow you can come in... but just don\\'t start anything\"!   \\n_______________\\nWhat do you get when you run over a parakeet with a lawnmower? <P>Shredded tweet. \\n_______________\\n\\n'"
      ]
     },
     "execution_count": 68,
     "metadata": {},
     "output_type": "execute_result"
    }
   ],
   "source": [
    "#Referencing Class Notes: Item-Based REC.py\n",
    "#b. Complete \n",
    "from numpy import *\n",
    "from numpy import linalg as la\n",
    "import numpy as np\n",
    "\n",
    "def ecludSim(inA,inB):\n",
    "    return 1.0 / (1.0 + la.norm(inA - inB))\n",
    "\n",
    "def pearsSim(inA,inB):\n",
    "    if len(inA) < 3 : return 1.0\n",
    "    return 0.5 + 0.5 * corrcoef(inA, inB, rowvar = 0)[0][1]\n",
    "\n",
    "def cosSim(inA,inB):\n",
    "    num = float(inA.T * inB)\n",
    "    denom = la.norm(inA)*la.norm(inB)\n",
    "    return 0.5 + 0.5 * (num / denom)\n",
    "\n",
    "def standEst(dataMat, user, simMeas, item):\n",
    "    n = shape(dataMat)[1]\n",
    "    simTotal = 0.0; ratSimTotal = 0.0\n",
    "    for j in range(n):\n",
    "        userRating = dataMat[user,j]\n",
    "        if userRating == 0: continue\n",
    "        overLap = nonzero(logical_and(dataMat[:,item]>0, \\\n",
    "                                      dataMat[:,j]>0))[0]\n",
    "        if len(overLap) == 0: similarity = 0\n",
    "        else: similarity = simMeas(dataMat[overLap,item], \\\n",
    "                                   dataMat[overLap,j])\n",
    "        #print 'the %d and %d similarity is: %f' % (item, j, similarity)\n",
    "        simTotal += similarity\n",
    "        ratSimTotal += similarity * userRating\n",
    "    if simTotal == 0: return 0\n",
    "    else: return ratSimTotal/simTotal\n",
    "    \n",
    "def svdEst(dataMat, user, simMeas, item):\n",
    "    n = shape(dataMat)[1]\n",
    "    simTotal = 0.0; ratSimTotal = 0.0\n",
    "    data=mat(dataMat)\n",
    "    U,Sigma,VT = la.svd(data)\n",
    "    Sig4 = mat(eye(4)*Sigma[:4]) #arrange Sig4 into a diagonal matrix\n",
    "    xformedItems = data.T * U[:,:4] * Sig4.I  #create transformed items\n",
    "    for j in range(n):\n",
    "        userRating = data[user,j]\n",
    "        if userRating == 0 or j==item: continue\n",
    "        similarity = simMeas(xformedItems[item,:].T,\\\n",
    "                             xformedItems[j,:].T)\n",
    "        #print 'the %d and %d similarity is: %f' % (item, j, similarity)\n",
    "        simTotal += similarity\n",
    "        ratSimTotal += similarity * userRating\n",
    "    if simTotal == 0: return 0\n",
    "    else: return ratSimTotal/simTotal\n",
    "\n",
    "# This function is not needed for Assignment 4, but may be useful for experimentation\n",
    "def recommend(dataMat, user, N=3, simMeas=cosSim, estMethod=standEst):\n",
    "    unratedItems = nonzero(dataMat[user,:].A==0)[1] #find unrated items \n",
    "    if len(unratedItems) == 0: return 'you rated everything'\n",
    "    itemScores = []\n",
    "    for item in unratedItems:\n",
    "        estimatedScore = estMethod(dataMat, user, simMeas, item)\n",
    "        itemScores.append((item, estimatedScore))\n",
    "    return sorted(itemScores, key=lambda jj: jj[1], reverse=True)[:N]\n",
    "\n",
    "# This function performs evaluatoin on a single user based on the test_ratio\n",
    "# For example, with test_ratio = 0.2, a randomly selected 20 percent of rated \n",
    "# items by the user are withheld and the rest are used to estimate the withheld ratings\n",
    "\n",
    "def cross_validate_user(dataMat, user, test_ratio, estMethod=standEst, simMeas=pearsSim):\n",
    "\tnumber_of_items = np.shape(dataMat)[1]\n",
    "\trated_items_by_user = np.array([i for i in range(number_of_items) if dataMat[user,i]>0])\n",
    "\ttest_size = test_ratio * len(rated_items_by_user)\n",
    "\ttest_indices = np.random.randint(0, len(rated_items_by_user), int(test_size))\n",
    "\twithheld_items = rated_items_by_user[test_indices]\n",
    "\toriginal_user_profile = np.copy(dataMat[user])\n",
    "\tdataMat[user, withheld_items] = 0 # So that the withheld test items is not used in the rating estimation below\n",
    "\terror_u = 0.0\n",
    "\tcount_u = len(withheld_items)\n",
    "\n",
    "\t# Compute absolute error for user u over all test items\n",
    "\tfor item in withheld_items:\n",
    "\t\t# Estimate rating on the withheld item\n",
    "\t\testimatedScore = estMethod(dataMat, user, simMeas, item)\n",
    "\t\terror_u = error_u + abs(estimatedScore - original_user_profile[item])\t\n",
    "\t\n",
    "\t# Now restore ratings of the withheld items to the user profile\n",
    "\tfor item in withheld_items:\n",
    "\t\tdataMat[user, item] = original_user_profile[item]\n",
    "\t\t\n",
    "\t# Return sum of absolute errors and the count of test cases for this user\n",
    "\t# Note that these will have to be accumulated for each user to compute MAE\n",
    "\treturn error_u, count_u\n",
    "\t\n",
    "###Writing a Test Function \n",
    "def test(dataMat, test_ratio, estMethod):\n",
    "    totale=0.0\n",
    "    totalc=0\n",
    "    for user in range(dataMat.shape[0]):\n",
    "        error, count = (cross_validate_user(dataMat, user, 0.2, standEst, simMeas=pearsSim))\n",
    "        totale = totale + error\n",
    "        totalc = totalc + count\n",
    "    MAE = totale/totalc\n",
    "    print ('Mean Absoloute Error for ',estMethod,' : ', MAE)\n",
    "    return MAE\n",
    "\n",
    "def print_most_similar_jokes(dataMat, jokes, queryJoke, k, metric=pearsSim):\n",
    "\t# Write this function to find the k most similar jokes (based on user ratings) to a queryJoke\n",
    "\t# The queryJoke is a joke id as given in the 'jokes.csv' file (an corresponding to the a column in dataMat)\n",
    "\t# You must compare ratings for the queryJoke (the column in dataMat corresponding to the joke), to all\n",
    "\t# other joke rating vectors and return the top k. Note that this is the same as performing KNN on the \n",
    "    # columns of dataMat. The function must retrieve the text of the joke from 'jokes.csv' file and print both\n",
    "\t# the queryJoke text as well as the text of the returned jokes.\n",
    "\n",
    "    queryJoke_data = dataMat[:,queryJoke]\n",
    "    print(\"Selected joke: \\n\", jokes[queryJoke], '\\n')\n",
    "    knn, index = kFunction(queryJoke_data, dataMat, k, metric)\n",
    "    print(\"Top %d Recommanded jokes are: \"%k)\n",
    "    for i in index:\n",
    "        print('\\n', jokes[i])\n",
    "\n",
    "###print a similar joke function    \n",
    "def kFunction(queryJoke_data, dataMat, k, measure):\n",
    "    dics = []\n",
    "    for i in range(dataMat.shape[1]):\n",
    "        v = dataMat[:, i]\n",
    "        dic = measure(queryJoke_data, v)\n",
    "        dics.append(dic)\n",
    "    dics= np.array(dics)\n",
    "    sdics = dics.argsort()\n",
    "    kNb = zeros((k, dataMat.shape[1]))\n",
    "    topIndex = []\n",
    "    for i in range(k):\n",
    "        kNb[i,:] = dataMat[sdics[i],:]\n",
    "        topIndex.append(sdics[i])\n",
    "    return kNb, topIndex\n",
    "\n",
    "def load_jokes(file):\n",
    "\tjokes = genfromtxt(file, delimiter=',', dtype=str)\n",
    "\tjokes = np.array(jokes[:,1])\n",
    "\treturn jokes\n",
    "\n",
    "def get_joke_text(jokes, id):\n",
    "\treturn jokes[id]\n",
    "\n",
    "# dataMat = genfromtxt('modified_jester_data.csv',delimiter=',')\n",
    "# test(dataMat, 0.2, svdEst)\n",
    "# test(dataMat, 0.2, standEst)\n",
    "# jokes = load_jokes('jokes.csv')\n",
    "# print_most_similar_jokes(dataMat, jokes, 3, 5, pearsSim)\n",
    "\n",
    "''' See example output below:\n",
    "\n",
    "Selected joke: \n",
    "\n",
    "Q. What's the difference between a man and a toilet? A. A toilet doesn't follow you around after you use it.\n",
    "\n",
    "Top 5 Recommended jokes are :\n",
    "\n",
    "Q: What's the difference between a Lawyer and a Plumber? A: A Plumber works to unclog the system. \n",
    "_______________\n",
    "What do you call an American in the finals of the world cup? \"Hey Beer Man!\" \n",
    "_______________\n",
    "Q. What's 200 feet long and has 4 teeth? <P>A. The front row at a Willie Nelson Concert. \n",
    "_______________\n",
    "A country guy goes into a city bar that has a dress code and the maitred' demands he wear a tie. Discouraged the guy goes to his car to sulk when inspiration strikes: He's got jumper cables in the trunk! So he wrapsthem around his neck sort of like a string tie (a bulky string tie to be sure) and returns to the bar. The maitre d' is reluctant but says to the guy \"Okay you're a pretty resourceful fellow you can come in... but just don't start anything\"!   \n",
    "_______________\n",
    "What do you get when you run over a parakeet with a lawnmower? <P>Shredded tweet. \n",
    "_______________\n",
    "\n",
    "'''"
   ]
  },
  {
   "cell_type": "code",
   "execution_count": 69,
   "metadata": {},
   "outputs": [
    {
     "name": "stdout",
     "output_type": "stream",
     "text": [
      "Mean Absoloute Error for  <function svdEst at 0x0000024475396D08>  :  3.7110221562753054\n"
     ]
    },
    {
     "data": {
      "text/plain": [
       "3.7110221562753054"
      ]
     },
     "execution_count": 69,
     "metadata": {},
     "output_type": "execute_result"
    }
   ],
   "source": [
    "#Show Test Result 1\n",
    "test(jdf, 0.2, svdEst)"
   ]
  },
  {
   "cell_type": "code",
   "execution_count": 70,
   "metadata": {},
   "outputs": [
    {
     "name": "stdout",
     "output_type": "stream",
     "text": [
      "Mean Absoloute Error for  <function standEst at 0x00000244753B2158>  :  3.660468236743647\n"
     ]
    },
    {
     "data": {
      "text/plain": [
       "3.660468236743647"
      ]
     },
     "execution_count": 70,
     "metadata": {},
     "output_type": "execute_result"
    }
   ],
   "source": [
    "#Show Test Result 2\n",
    "test(jdf, 0.2,standEst)"
   ]
  },
  {
   "cell_type": "code",
   "execution_count": 71,
   "metadata": {},
   "outputs": [
    {
     "name": "stdout",
     "output_type": "stream",
     "text": [
      "Selected joke: \n",
      " Q. What's the difference between a man and a toilet? A. A toilet doesn't follow you around after you use it. \n",
      "\n",
      "Top 5 Recommanded jokes are: \n",
      "\n",
      " A dog walks into Western Union and asks the clerk to send a telegram. He fills out a form on which he writes down the telegram he wishes to send: \"Bow wow wow Bow wow wow.\"The clerk says \"You can add another 'Bow wow' for the same price.\"The dog responded \"Now wouldn't that sound a little silly?\"\n",
      "\n",
      " Q:  What did the blind person say when given some matzah?A:  Who the hell wrote this?\n",
      "\n",
      " Q. Did you hear about the dyslexic devil worshipper? A. He sold his soul to Santa.\n",
      "\n",
      " Q. What is orange and sounds like a parrot?  A. A carrot.\n",
      "\n",
      " A guy goes into confession and says to the priest \"Father I'm 80 years old widower with 11 grandchildren. Last night I met two beautiful flight attendants. They took me home and I made love to both of them. Twice.\"The priest said: \"Well my son when was the last time you were in confession?\" \"Never Father I'm Jewish.\" \"So then why are you telling me?\" \"I'm telling everybody.\"\n"
     ]
    }
   ],
   "source": [
    "#3c.Result of similar jokes \n",
    "print_most_similar_jokes(jdf, joke, 3, 5, pearsSim)"
   ]
  },
  {
   "cell_type": "code",
   "execution_count": null,
   "metadata": {},
   "outputs": [],
   "source": []
  }
 ],
 "metadata": {
  "kernelspec": {
   "display_name": "Python 3",
   "language": "python",
   "name": "python3"
  },
  "language_info": {
   "codemirror_mode": {
    "name": "ipython",
    "version": 3
   },
   "file_extension": ".py",
   "mimetype": "text/x-python",
   "name": "python",
   "nbconvert_exporter": "python",
   "pygments_lexer": "ipython3",
   "version": "3.6.5"
  }
 },
 "nbformat": 4,
 "nbformat_minor": 2
}
