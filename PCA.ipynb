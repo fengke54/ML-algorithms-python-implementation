{
 "cells": [
  {
   "cell_type": "code",
   "execution_count": 1,
   "metadata": {},
   "outputs": [],
   "source": [
    "#Ke Feng \n",
    "#DSC478 Programming Machine Learning\n",
    "#Assignment 4 Question 1"
   ]
  },
  {
   "cell_type": "code",
   "execution_count": 46,
   "metadata": {},
   "outputs": [],
   "source": [
    "#import libraries\n",
    "import pandas as pd\n",
    "import numpy as np\n",
    "import matplotlib.pyplot as plt\n",
    "from sklearn import preprocessing \n",
    "from sklearn.cluster import KMeans\n",
    "from sklearn.metrics import completeness_score, homogeneity_score\n",
    "from sklearn import decomposition"
   ]
  },
  {
   "cell_type": "code",
   "execution_count": 47,
   "metadata": {},
   "outputs": [
    {
     "data": {
      "text/html": [
       "<div>\n",
       "<style scoped>\n",
       "    .dataframe tbody tr th:only-of-type {\n",
       "        vertical-align: middle;\n",
       "    }\n",
       "\n",
       "    .dataframe tbody tr th {\n",
       "        vertical-align: top;\n",
       "    }\n",
       "\n",
       "    .dataframe thead th {\n",
       "        text-align: right;\n",
       "    }\n",
       "</style>\n",
       "<table border=\"1\" class=\"dataframe\">\n",
       "  <thead>\n",
       "    <tr style=\"text-align: right;\">\n",
       "      <th></th>\n",
       "      <th>0</th>\n",
       "      <th>1</th>\n",
       "      <th>2</th>\n",
       "      <th>3</th>\n",
       "      <th>4</th>\n",
       "      <th>5</th>\n",
       "      <th>6</th>\n",
       "      <th>7</th>\n",
       "      <th>8</th>\n",
       "      <th>9</th>\n",
       "      <th>10</th>\n",
       "      <th>11</th>\n",
       "      <th>12</th>\n",
       "      <th>13</th>\n",
       "      <th>14</th>\n",
       "      <th>15</th>\n",
       "      <th>16</th>\n",
       "      <th>17</th>\n",
       "      <th>18</th>\n",
       "    </tr>\n",
       "  </thead>\n",
       "  <tbody>\n",
       "    <tr>\n",
       "      <th>0</th>\n",
       "      <td>110.0</td>\n",
       "      <td>189.0</td>\n",
       "      <td>9</td>\n",
       "      <td>0.0</td>\n",
       "      <td>0.0</td>\n",
       "      <td>1.000000</td>\n",
       "      <td>0.666667</td>\n",
       "      <td>1.222222</td>\n",
       "      <td>1.186342</td>\n",
       "      <td>12.925926</td>\n",
       "      <td>10.888889</td>\n",
       "      <td>9.222222</td>\n",
       "      <td>18.666668</td>\n",
       "      <td>-6.111111</td>\n",
       "      <td>-11.111111</td>\n",
       "      <td>17.222221</td>\n",
       "      <td>18.666668</td>\n",
       "      <td>0.508139</td>\n",
       "      <td>1.910864</td>\n",
       "    </tr>\n",
       "    <tr>\n",
       "      <th>1</th>\n",
       "      <td>86.0</td>\n",
       "      <td>187.0</td>\n",
       "      <td>9</td>\n",
       "      <td>0.0</td>\n",
       "      <td>0.0</td>\n",
       "      <td>1.111111</td>\n",
       "      <td>0.720082</td>\n",
       "      <td>1.444444</td>\n",
       "      <td>0.750309</td>\n",
       "      <td>13.740741</td>\n",
       "      <td>11.666667</td>\n",
       "      <td>10.333334</td>\n",
       "      <td>19.222221</td>\n",
       "      <td>-6.222222</td>\n",
       "      <td>-10.222222</td>\n",
       "      <td>16.444445</td>\n",
       "      <td>19.222221</td>\n",
       "      <td>0.463329</td>\n",
       "      <td>1.941465</td>\n",
       "    </tr>\n",
       "    <tr>\n",
       "      <th>2</th>\n",
       "      <td>225.0</td>\n",
       "      <td>244.0</td>\n",
       "      <td>9</td>\n",
       "      <td>0.0</td>\n",
       "      <td>0.0</td>\n",
       "      <td>3.388889</td>\n",
       "      <td>2.195113</td>\n",
       "      <td>3.000000</td>\n",
       "      <td>1.520234</td>\n",
       "      <td>12.259259</td>\n",
       "      <td>10.333334</td>\n",
       "      <td>9.333334</td>\n",
       "      <td>17.111110</td>\n",
       "      <td>-5.777778</td>\n",
       "      <td>-8.777778</td>\n",
       "      <td>14.555555</td>\n",
       "      <td>17.111110</td>\n",
       "      <td>0.480149</td>\n",
       "      <td>1.987902</td>\n",
       "    </tr>\n",
       "    <tr>\n",
       "      <th>3</th>\n",
       "      <td>47.0</td>\n",
       "      <td>232.0</td>\n",
       "      <td>9</td>\n",
       "      <td>0.0</td>\n",
       "      <td>0.0</td>\n",
       "      <td>1.277778</td>\n",
       "      <td>1.254621</td>\n",
       "      <td>1.000000</td>\n",
       "      <td>0.894427</td>\n",
       "      <td>12.703704</td>\n",
       "      <td>11.000000</td>\n",
       "      <td>9.000000</td>\n",
       "      <td>18.111110</td>\n",
       "      <td>-5.111111</td>\n",
       "      <td>-11.111111</td>\n",
       "      <td>16.222221</td>\n",
       "      <td>18.111110</td>\n",
       "      <td>0.500966</td>\n",
       "      <td>1.875362</td>\n",
       "    </tr>\n",
       "    <tr>\n",
       "      <th>4</th>\n",
       "      <td>97.0</td>\n",
       "      <td>186.0</td>\n",
       "      <td>9</td>\n",
       "      <td>0.0</td>\n",
       "      <td>0.0</td>\n",
       "      <td>1.166667</td>\n",
       "      <td>0.691215</td>\n",
       "      <td>1.166667</td>\n",
       "      <td>1.005540</td>\n",
       "      <td>15.592592</td>\n",
       "      <td>13.888889</td>\n",
       "      <td>11.777778</td>\n",
       "      <td>21.111110</td>\n",
       "      <td>-5.111111</td>\n",
       "      <td>-11.444445</td>\n",
       "      <td>16.555555</td>\n",
       "      <td>21.111110</td>\n",
       "      <td>0.442661</td>\n",
       "      <td>1.863654</td>\n",
       "    </tr>\n",
       "  </tbody>\n",
       "</table>\n",
       "</div>"
      ],
      "text/plain": [
       "      0      1   2    3    4         5         6         7         8   \\\n",
       "0  110.0  189.0   9  0.0  0.0  1.000000  0.666667  1.222222  1.186342   \n",
       "1   86.0  187.0   9  0.0  0.0  1.111111  0.720082  1.444444  0.750309   \n",
       "2  225.0  244.0   9  0.0  0.0  3.388889  2.195113  3.000000  1.520234   \n",
       "3   47.0  232.0   9  0.0  0.0  1.277778  1.254621  1.000000  0.894427   \n",
       "4   97.0  186.0   9  0.0  0.0  1.166667  0.691215  1.166667  1.005540   \n",
       "\n",
       "          9          10         11         12        13         14         15  \\\n",
       "0  12.925926  10.888889   9.222222  18.666668 -6.111111 -11.111111  17.222221   \n",
       "1  13.740741  11.666667  10.333334  19.222221 -6.222222 -10.222222  16.444445   \n",
       "2  12.259259  10.333334   9.333334  17.111110 -5.777778  -8.777778  14.555555   \n",
       "3  12.703704  11.000000   9.000000  18.111110 -5.111111 -11.111111  16.222221   \n",
       "4  15.592592  13.888889  11.777778  21.111110 -5.111111 -11.444445  16.555555   \n",
       "\n",
       "          16        17        18  \n",
       "0  18.666668  0.508139  1.910864  \n",
       "1  19.222221  0.463329  1.941465  \n",
       "2  17.111110  0.480149  1.987902  \n",
       "3  18.111110  0.500966  1.875362  \n",
       "4  21.111110  0.442661  1.863654  "
      ]
     },
     "execution_count": 47,
     "metadata": {},
     "output_type": "execute_result"
    }
   ],
   "source": [
    "###a. Load the Data and normalization\n",
    "#Load the image matrix \n",
    "segdata=pd.read_csv('segmentation_data.txt', header=None)\n",
    "segdata.head()"
   ]
  },
  {
   "cell_type": "code",
   "execution_count": 48,
   "metadata": {},
   "outputs": [
    {
     "data": {
      "text/html": [
       "<div>\n",
       "<style scoped>\n",
       "    .dataframe tbody tr th:only-of-type {\n",
       "        vertical-align: middle;\n",
       "    }\n",
       "\n",
       "    .dataframe tbody tr th {\n",
       "        vertical-align: top;\n",
       "    }\n",
       "\n",
       "    .dataframe thead th {\n",
       "        text-align: right;\n",
       "    }\n",
       "</style>\n",
       "<table border=\"1\" class=\"dataframe\">\n",
       "  <thead>\n",
       "    <tr style=\"text-align: right;\">\n",
       "      <th></th>\n",
       "      <th>name</th>\n",
       "      <th>value</th>\n",
       "    </tr>\n",
       "  </thead>\n",
       "  <tbody>\n",
       "    <tr>\n",
       "      <th>0</th>\n",
       "      <td>GRASS</td>\n",
       "      <td>0</td>\n",
       "    </tr>\n",
       "    <tr>\n",
       "      <th>1</th>\n",
       "      <td>GRASS</td>\n",
       "      <td>0</td>\n",
       "    </tr>\n",
       "    <tr>\n",
       "      <th>2</th>\n",
       "      <td>GRASS</td>\n",
       "      <td>0</td>\n",
       "    </tr>\n",
       "    <tr>\n",
       "      <th>3</th>\n",
       "      <td>GRASS</td>\n",
       "      <td>0</td>\n",
       "    </tr>\n",
       "    <tr>\n",
       "      <th>4</th>\n",
       "      <td>GRASS</td>\n",
       "      <td>0</td>\n",
       "    </tr>\n",
       "  </tbody>\n",
       "</table>\n",
       "</div>"
      ],
      "text/plain": [
       "    name  value\n",
       "0  GRASS      0\n",
       "1  GRASS      0\n",
       "2  GRASS      0\n",
       "3  GRASS      0\n",
       "4  GRASS      0"
      ]
     },
     "execution_count": 48,
     "metadata": {},
     "output_type": "execute_result"
    }
   ],
   "source": [
    "#load the class\n",
    "segclass=pd.read_csv('segmentation_classes.txt', sep='\\t', header=None, names=['name','value'])\n",
    "segclass.head()"
   ]
  },
  {
   "cell_type": "code",
   "execution_count": 49,
   "metadata": {},
   "outputs": [
    {
     "data": {
      "text/html": [
       "<div>\n",
       "<style scoped>\n",
       "    .dataframe tbody tr th:only-of-type {\n",
       "        vertical-align: middle;\n",
       "    }\n",
       "\n",
       "    .dataframe tbody tr th {\n",
       "        vertical-align: top;\n",
       "    }\n",
       "\n",
       "    .dataframe thead th {\n",
       "        text-align: right;\n",
       "    }\n",
       "</style>\n",
       "<table border=\"1\" class=\"dataframe\">\n",
       "  <thead>\n",
       "    <tr style=\"text-align: right;\">\n",
       "      <th></th>\n",
       "      <th>names</th>\n",
       "    </tr>\n",
       "  </thead>\n",
       "  <tbody>\n",
       "    <tr>\n",
       "      <th>0</th>\n",
       "      <td>REGION-CENTROID-COL</td>\n",
       "    </tr>\n",
       "    <tr>\n",
       "      <th>1</th>\n",
       "      <td>REGION-CENTROID-ROW</td>\n",
       "    </tr>\n",
       "    <tr>\n",
       "      <th>2</th>\n",
       "      <td>REGION-PIXEL-COUNT</td>\n",
       "    </tr>\n",
       "    <tr>\n",
       "      <th>3</th>\n",
       "      <td>SHORT-LINE-DENSITY-5</td>\n",
       "    </tr>\n",
       "    <tr>\n",
       "      <th>4</th>\n",
       "      <td>SHORT-LINE-DENSITY-2</td>\n",
       "    </tr>\n",
       "  </tbody>\n",
       "</table>\n",
       "</div>"
      ],
      "text/plain": [
       "                  names\n",
       "0   REGION-CENTROID-COL\n",
       "1   REGION-CENTROID-ROW\n",
       "2    REGION-PIXEL-COUNT\n",
       "3  SHORT-LINE-DENSITY-5\n",
       "4  SHORT-LINE-DENSITY-2"
      ]
     },
     "execution_count": 49,
     "metadata": {},
     "output_type": "execute_result"
    }
   ],
   "source": [
    "#load the names\n",
    "segname=pd.read_csv('segmentation_names.txt', header=None, names=['names'])\n",
    "segname.head()"
   ]
  },
  {
   "cell_type": "code",
   "execution_count": 50,
   "metadata": {},
   "outputs": [
    {
     "data": {
      "text/plain": [
       "0      REGION-CENTROID-COL\n",
       "1      REGION-CENTROID-ROW\n",
       "2       REGION-PIXEL-COUNT\n",
       "3     SHORT-LINE-DENSITY-5\n",
       "4     SHORT-LINE-DENSITY-2\n",
       "5               VEDGE-MEAN\n",
       "6                 VEDGE-SD\n",
       "7               HEDGE-MEAN\n",
       "8                 HEDGE-SD\n",
       "9           INTENSITY-MEAN\n",
       "10             RAWRED-MEAN\n",
       "11            RAWBLUE-MEAN\n",
       "12           RAWGREEN-MEAN\n",
       "13              EXRED-MEAN\n",
       "14             EXBLUE-MEAN\n",
       "15            EXGREEN-MEAN\n",
       "16              VALUE-MEAN\n",
       "17         SATURATION-MEAN\n",
       "18                HUE-MEAN\n",
       "Name: names, dtype: object"
      ]
     },
     "execution_count": 50,
     "metadata": {},
     "output_type": "execute_result"
    }
   ],
   "source": [
    "#transform the data into numpy array\n",
    "segdata1=np.array(segdata)\n",
    "segclass1=np.array(segclass)\n",
    "#label location indexer with name \n",
    "segname1=segname.iloc[:,0] #starting from zero\n",
    "segname1"
   ]
  },
  {
   "cell_type": "code",
   "execution_count": 51,
   "metadata": {},
   "outputs": [
    {
     "data": {
      "text/plain": [
       "array([[0.43083004, 0.74166667, 0.        , ..., 0.12371135, 0.50813884,\n",
       "        0.83184923],\n",
       "       [0.33596838, 0.73333333, 0.        , ..., 0.12739322, 0.46332908,\n",
       "        0.83698646],\n",
       "       [0.88537549, 0.97083333, 0.        , ..., 0.11340205, 0.48014903,\n",
       "        0.84478233],\n",
       "       ...,\n",
       "       [0.50197628, 0.625     , 0.        , ..., 0.07216495, 0.5409177 ,\n",
       "        0.17591546],\n",
       "       [0.58893281, 0.6125    , 0.        , ..., 0.08100147, 0.50308645,\n",
       "        0.18478933],\n",
       "       [0.48616601, 0.62916667, 0.        , ..., 0.09646539, 0.4799313 ,\n",
       "        0.17037463]])"
      ]
     },
     "execution_count": 51,
     "metadata": {},
     "output_type": "execute_result"
    }
   ],
   "source": [
    "#Normalization (Max-Min Scaling)\n",
    "minmax=preprocessing.MinMaxScaler().fit(segdata1)\n",
    "segnorm=minmax.transform(segdata1)\n",
    "segnorm"
   ]
  },
  {
   "cell_type": "code",
   "execution_count": 52,
   "metadata": {},
   "outputs": [
    {
     "data": {
      "text/plain": [
       "KMeans(algorithm='auto', copy_x=True, init='k-means++', max_iter=300,\n",
       "    n_clusters=7, n_init=10, n_jobs=1, precompute_distances='auto',\n",
       "    random_state=None, tol=0.0001, verbose=0)"
      ]
     },
     "execution_count": 52,
     "metadata": {},
     "output_type": "execute_result"
    }
   ],
   "source": [
    "###b. Performing K-means clustering \n",
    "#Use scikit-learn to perform k-means, k=7   \n",
    "kmeans=KMeans(n_clusters=7)\n",
    "kmeans.fit(segnorm)  #This automatically calculate things based on Euclidian distance "
   ]
  },
  {
   "cell_type": "code",
   "execution_count": 53,
   "metadata": {},
   "outputs": [
    {
     "name": "stdout",
     "output_type": "stream",
     "text": [
      "[0 0 0 ... 4 4 3]\n"
     ]
    }
   ],
   "source": [
    "#check class labels\n",
    "labels=kmeans.labels_\n",
    "print(labels)"
   ]
  },
  {
   "cell_type": "code",
   "execution_count": 54,
   "metadata": {},
   "outputs": [],
   "source": [
    "#print centroids \n",
    "centroids=kmeans.cluster_centers_\n",
    "centroidsT=centroids.T"
   ]
  },
  {
   "cell_type": "code",
   "execution_count": 55,
   "metadata": {},
   "outputs": [
    {
     "data": {
      "text/html": [
       "<div>\n",
       "<style scoped>\n",
       "    .dataframe tbody tr th:only-of-type {\n",
       "        vertical-align: middle;\n",
       "    }\n",
       "\n",
       "    .dataframe tbody tr th {\n",
       "        vertical-align: top;\n",
       "    }\n",
       "\n",
       "    .dataframe thead th {\n",
       "        text-align: right;\n",
       "    }\n",
       "</style>\n",
       "<table border=\"1\" class=\"dataframe\">\n",
       "  <thead>\n",
       "    <tr style=\"text-align: right;\">\n",
       "      <th></th>\n",
       "      <th>C1</th>\n",
       "      <th>C2</th>\n",
       "      <th>C3</th>\n",
       "      <th>C4</th>\n",
       "      <th>C5</th>\n",
       "      <th>C6</th>\n",
       "      <th>C7</th>\n",
       "    </tr>\n",
       "    <tr>\n",
       "      <th>names</th>\n",
       "      <th></th>\n",
       "      <th></th>\n",
       "      <th></th>\n",
       "      <th></th>\n",
       "      <th></th>\n",
       "      <th></th>\n",
       "      <th></th>\n",
       "    </tr>\n",
       "  </thead>\n",
       "  <tbody>\n",
       "    <tr>\n",
       "      <th>REGION-CENTROID-COL</th>\n",
       "      <td>0.513994</td>\n",
       "      <td>0.254169</td>\n",
       "      <td>0.535099</td>\n",
       "      <td>0.256103</td>\n",
       "      <td>0.770674</td>\n",
       "      <td>0.302506</td>\n",
       "      <td>0.750696</td>\n",
       "    </tr>\n",
       "    <tr>\n",
       "      <th>REGION-CENTROID-ROW</th>\n",
       "      <td>0.808937</td>\n",
       "      <td>0.459974</td>\n",
       "      <td>0.150167</td>\n",
       "      <td>0.393468</td>\n",
       "      <td>0.425215</td>\n",
       "      <td>0.530862</td>\n",
       "      <td>0.534564</td>\n",
       "    </tr>\n",
       "    <tr>\n",
       "      <th>REGION-PIXEL-COUNT</th>\n",
       "      <td>0.000000</td>\n",
       "      <td>0.000000</td>\n",
       "      <td>0.000000</td>\n",
       "      <td>0.000000</td>\n",
       "      <td>0.000000</td>\n",
       "      <td>0.000000</td>\n",
       "      <td>0.000000</td>\n",
       "    </tr>\n",
       "    <tr>\n",
       "      <th>SHORT-LINE-DENSITY-5</th>\n",
       "      <td>0.077441</td>\n",
       "      <td>0.026256</td>\n",
       "      <td>0.027778</td>\n",
       "      <td>0.074510</td>\n",
       "      <td>0.013978</td>\n",
       "      <td>0.052260</td>\n",
       "      <td>0.040000</td>\n",
       "    </tr>\n",
       "    <tr>\n",
       "      <th>SHORT-LINE-DENSITY-2</th>\n",
       "      <td>0.005051</td>\n",
       "      <td>0.013699</td>\n",
       "      <td>0.001667</td>\n",
       "      <td>0.019118</td>\n",
       "      <td>0.022581</td>\n",
       "      <td>0.046610</td>\n",
       "      <td>0.038462</td>\n",
       "    </tr>\n",
       "    <tr>\n",
       "      <th>VEDGE-MEAN</th>\n",
       "      <td>0.054474</td>\n",
       "      <td>0.037274</td>\n",
       "      <td>0.030228</td>\n",
       "      <td>0.077343</td>\n",
       "      <td>0.040237</td>\n",
       "      <td>0.100817</td>\n",
       "      <td>0.114419</td>\n",
       "    </tr>\n",
       "    <tr>\n",
       "      <th>VEDGE-SD</th>\n",
       "      <td>0.001407</td>\n",
       "      <td>0.002364</td>\n",
       "      <td>0.000543</td>\n",
       "      <td>0.004100</td>\n",
       "      <td>0.002989</td>\n",
       "      <td>0.009420</td>\n",
       "      <td>0.019301</td>\n",
       "    </tr>\n",
       "    <tr>\n",
       "      <th>HEDGE-MEAN</th>\n",
       "      <td>0.046335</td>\n",
       "      <td>0.027874</td>\n",
       "      <td>0.026766</td>\n",
       "      <td>0.060574</td>\n",
       "      <td>0.023122</td>\n",
       "      <td>0.083972</td>\n",
       "      <td>0.109240</td>\n",
       "    </tr>\n",
       "    <tr>\n",
       "      <th>HEDGE-SD</th>\n",
       "      <td>0.001401</td>\n",
       "      <td>0.002017</td>\n",
       "      <td>0.000587</td>\n",
       "      <td>0.004967</td>\n",
       "      <td>0.002088</td>\n",
       "      <td>0.011043</td>\n",
       "      <td>0.017999</td>\n",
       "    </tr>\n",
       "    <tr>\n",
       "      <th>INTENSITY-MEAN</th>\n",
       "      <td>0.108790</td>\n",
       "      <td>0.026013</td>\n",
       "      <td>0.823246</td>\n",
       "      <td>0.148187</td>\n",
       "      <td>0.041138</td>\n",
       "      <td>0.400608</td>\n",
       "      <td>0.300955</td>\n",
       "    </tr>\n",
       "    <tr>\n",
       "      <th>RAWRED-MEAN</th>\n",
       "      <td>0.091403</td>\n",
       "      <td>0.017925</td>\n",
       "      <td>0.779716</td>\n",
       "      <td>0.138085</td>\n",
       "      <td>0.035005</td>\n",
       "      <td>0.370347</td>\n",
       "      <td>0.279908</td>\n",
       "    </tr>\n",
       "    <tr>\n",
       "      <th>RAWBLUE-MEAN</th>\n",
       "      <td>0.092414</td>\n",
       "      <td>0.042306</td>\n",
       "      <td>0.894170</td>\n",
       "      <td>0.185160</td>\n",
       "      <td>0.058340</td>\n",
       "      <td>0.472461</td>\n",
       "      <td>0.352738</td>\n",
       "    </tr>\n",
       "    <tr>\n",
       "      <th>RAWGREEN-MEAN</th>\n",
       "      <td>0.142676</td>\n",
       "      <td>0.016504</td>\n",
       "      <td>0.788761</td>\n",
       "      <td>0.118539</td>\n",
       "      <td>0.028766</td>\n",
       "      <td>0.353036</td>\n",
       "      <td>0.265920</td>\n",
       "    </tr>\n",
       "    <tr>\n",
       "      <th>EXRED-MEAN</th>\n",
       "      <td>0.679161</td>\n",
       "      <td>0.769800</td>\n",
       "      <td>0.270665</td>\n",
       "      <td>0.716906</td>\n",
       "      <td>0.778473</td>\n",
       "      <td>0.497146</td>\n",
       "      <td>0.592572</td>\n",
       "    </tr>\n",
       "    <tr>\n",
       "      <th>EXBLUE-MEAN</th>\n",
       "      <td>0.079002</td>\n",
       "      <td>0.216011</td>\n",
       "      <td>0.666373</td>\n",
       "      <td>0.344014</td>\n",
       "      <td>0.223939</td>\n",
       "      <td>0.570882</td>\n",
       "      <td>0.451124</td>\n",
       "    </tr>\n",
       "    <tr>\n",
       "      <th>EXGREEN-MEAN</th>\n",
       "      <td>0.821287</td>\n",
       "      <td>0.508117</td>\n",
       "      <td>0.289386</td>\n",
       "      <td>0.355458</td>\n",
       "      <td>0.486509</td>\n",
       "      <td>0.213054</td>\n",
       "      <td>0.309158</td>\n",
       "    </tr>\n",
       "    <tr>\n",
       "      <th>VALUE-MEAN</th>\n",
       "      <td>0.134901</td>\n",
       "      <td>0.043295</td>\n",
       "      <td>0.894170</td>\n",
       "      <td>0.185413</td>\n",
       "      <td>0.059295</td>\n",
       "      <td>0.472461</td>\n",
       "      <td>0.352822</td>\n",
       "    </tr>\n",
       "    <tr>\n",
       "      <th>SATURATION-MEAN</th>\n",
       "      <td>0.414491</td>\n",
       "      <td>0.801687</td>\n",
       "      <td>0.211804</td>\n",
       "      <td>0.411986</td>\n",
       "      <td>0.538181</td>\n",
       "      <td>0.302263</td>\n",
       "      <td>0.302342</td>\n",
       "    </tr>\n",
       "    <tr>\n",
       "      <th>HUE-MEAN</th>\n",
       "      <td>0.892333</td>\n",
       "      <td>0.181153</td>\n",
       "      <td>0.125066</td>\n",
       "      <td>0.201890</td>\n",
       "      <td>0.243969</td>\n",
       "      <td>0.163879</td>\n",
       "      <td>0.164764</td>\n",
       "    </tr>\n",
       "  </tbody>\n",
       "</table>\n",
       "</div>"
      ],
      "text/plain": [
       "                            C1        C2        C3        C4        C5  \\\n",
       "names                                                                    \n",
       "REGION-CENTROID-COL   0.513994  0.254169  0.535099  0.256103  0.770674   \n",
       "REGION-CENTROID-ROW   0.808937  0.459974  0.150167  0.393468  0.425215   \n",
       "REGION-PIXEL-COUNT    0.000000  0.000000  0.000000  0.000000  0.000000   \n",
       "SHORT-LINE-DENSITY-5  0.077441  0.026256  0.027778  0.074510  0.013978   \n",
       "SHORT-LINE-DENSITY-2  0.005051  0.013699  0.001667  0.019118  0.022581   \n",
       "VEDGE-MEAN            0.054474  0.037274  0.030228  0.077343  0.040237   \n",
       "VEDGE-SD              0.001407  0.002364  0.000543  0.004100  0.002989   \n",
       "HEDGE-MEAN            0.046335  0.027874  0.026766  0.060574  0.023122   \n",
       "HEDGE-SD              0.001401  0.002017  0.000587  0.004967  0.002088   \n",
       "INTENSITY-MEAN        0.108790  0.026013  0.823246  0.148187  0.041138   \n",
       "RAWRED-MEAN           0.091403  0.017925  0.779716  0.138085  0.035005   \n",
       "RAWBLUE-MEAN          0.092414  0.042306  0.894170  0.185160  0.058340   \n",
       "RAWGREEN-MEAN         0.142676  0.016504  0.788761  0.118539  0.028766   \n",
       "EXRED-MEAN            0.679161  0.769800  0.270665  0.716906  0.778473   \n",
       "EXBLUE-MEAN           0.079002  0.216011  0.666373  0.344014  0.223939   \n",
       "EXGREEN-MEAN          0.821287  0.508117  0.289386  0.355458  0.486509   \n",
       "VALUE-MEAN            0.134901  0.043295  0.894170  0.185413  0.059295   \n",
       "SATURATION-MEAN       0.414491  0.801687  0.211804  0.411986  0.538181   \n",
       "HUE-MEAN              0.892333  0.181153  0.125066  0.201890  0.243969   \n",
       "\n",
       "                            C6        C7  \n",
       "names                                     \n",
       "REGION-CENTROID-COL   0.302506  0.750696  \n",
       "REGION-CENTROID-ROW   0.530862  0.534564  \n",
       "REGION-PIXEL-COUNT    0.000000  0.000000  \n",
       "SHORT-LINE-DENSITY-5  0.052260  0.040000  \n",
       "SHORT-LINE-DENSITY-2  0.046610  0.038462  \n",
       "VEDGE-MEAN            0.100817  0.114419  \n",
       "VEDGE-SD              0.009420  0.019301  \n",
       "HEDGE-MEAN            0.083972  0.109240  \n",
       "HEDGE-SD              0.011043  0.017999  \n",
       "INTENSITY-MEAN        0.400608  0.300955  \n",
       "RAWRED-MEAN           0.370347  0.279908  \n",
       "RAWBLUE-MEAN          0.472461  0.352738  \n",
       "RAWGREEN-MEAN         0.353036  0.265920  \n",
       "EXRED-MEAN            0.497146  0.592572  \n",
       "EXBLUE-MEAN           0.570882  0.451124  \n",
       "EXGREEN-MEAN          0.213054  0.309158  \n",
       "VALUE-MEAN            0.472461  0.352822  \n",
       "SATURATION-MEAN       0.302263  0.302342  \n",
       "HUE-MEAN              0.163879  0.164764  "
      ]
     },
     "execution_count": 55,
     "metadata": {},
     "output_type": "execute_result"
    }
   ],
   "source": [
    "#print into a certain format (include the cluster name)\n",
    "pd.DataFrame(centroidsT, index = segname1, columns = ['C1', 'C2','C3','C4','C5',' C6','C7'])"
   ]
  },
  {
   "cell_type": "code",
   "execution_count": 56,
   "metadata": {},
   "outputs": [
    {
     "name": "stdout",
     "output_type": "stream",
     "text": [
      "0.6131870124853012\n"
     ]
    }
   ],
   "source": [
    "#Complete Scores \n",
    "cscore = completeness_score(segclass['value'], labels)\n",
    "print(cscore)"
   ]
  },
  {
   "cell_type": "code",
   "execution_count": 57,
   "metadata": {},
   "outputs": [
    {
     "name": "stdout",
     "output_type": "stream",
     "text": [
      "0.6115021163370863\n"
     ]
    }
   ],
   "source": [
    "#Hemogenity Values \n",
    "hscore = homogeneity_score(segclass['value'], labels)\n",
    "print(hscore)"
   ]
  },
  {
   "cell_type": "code",
   "execution_count": 61,
   "metadata": {},
   "outputs": [
    {
     "name": "stdout",
     "output_type": "stream",
     "text": [
      "[[-84.65245102  -4.42822449  -8.88238053 -39.00957207]\n",
      " [-84.34818706 -28.54013911  -7.57830109 -39.77329513]\n",
      " [-96.16386629 115.47120969 -17.9039471  -78.89504679]\n",
      " ...\n",
      " [-78.74145774  10.28016375  -9.02800177  -5.84264659]\n",
      " [-72.93546019  31.65864413  -9.31241009  -2.42595138]\n",
      " [-72.70095839   6.09336327  -7.91153763  -9.90339635]]\n"
     ]
    }
   ],
   "source": [
    "###c. Perform PCA \n",
    "#Perform PCAs   \n",
    "pca=decomposition.PCA(n_components=4)\n",
    "dpca=pca.fit(segdata1).transform(segdata)\n",
    "print(dpca)"
   ]
  },
  {
   "cell_type": "code",
   "execution_count": 63,
   "metadata": {},
   "outputs": [
    {
     "name": "stdout",
     "output_type": "stream",
     "text": [
      "[0.4171365  0.24216705 0.18910341 0.10403878]\n"
     ]
    }
   ],
   "source": [
    "#Print explained ratio\n",
    "print(pca.explained_variance_ratio_)  #This is when ratio reaches above 95%. "
   ]
  },
  {
   "cell_type": "code",
   "execution_count": 69,
   "metadata": {},
   "outputs": [
    {
     "data": {
      "text/html": [
       "<div>\n",
       "<style scoped>\n",
       "    .dataframe tbody tr th:only-of-type {\n",
       "        vertical-align: middle;\n",
       "    }\n",
       "\n",
       "    .dataframe tbody tr th {\n",
       "        vertical-align: top;\n",
       "    }\n",
       "\n",
       "    .dataframe thead th {\n",
       "        text-align: right;\n",
       "    }\n",
       "</style>\n",
       "<table border=\"1\" class=\"dataframe\">\n",
       "  <thead>\n",
       "    <tr style=\"text-align: right;\">\n",
       "      <th></th>\n",
       "      <th>PC1</th>\n",
       "      <th>PC2</th>\n",
       "      <th>PC3</th>\n",
       "      <th>PC4</th>\n",
       "    </tr>\n",
       "  </thead>\n",
       "  <tbody>\n",
       "    <tr>\n",
       "      <th>0</th>\n",
       "      <td>-84.652451</td>\n",
       "      <td>-4.428224</td>\n",
       "      <td>-8.882381</td>\n",
       "      <td>-39.009572</td>\n",
       "    </tr>\n",
       "    <tr>\n",
       "      <th>1</th>\n",
       "      <td>-84.348187</td>\n",
       "      <td>-28.540139</td>\n",
       "      <td>-7.578301</td>\n",
       "      <td>-39.773295</td>\n",
       "    </tr>\n",
       "    <tr>\n",
       "      <th>2</th>\n",
       "      <td>-96.163866</td>\n",
       "      <td>115.471210</td>\n",
       "      <td>-17.903947</td>\n",
       "      <td>-78.895047</td>\n",
       "    </tr>\n",
       "    <tr>\n",
       "      <th>3</th>\n",
       "      <td>-107.484284</td>\n",
       "      <td>-62.142089</td>\n",
       "      <td>-6.927148</td>\n",
       "      <td>-82.941026</td>\n",
       "    </tr>\n",
       "    <tr>\n",
       "      <th>4</th>\n",
       "      <td>-79.607929</td>\n",
       "      <td>-17.947676</td>\n",
       "      <td>-8.239140</td>\n",
       "      <td>-39.513479</td>\n",
       "    </tr>\n",
       "  </tbody>\n",
       "</table>\n",
       "</div>"
      ],
      "text/plain": [
       "          PC1         PC2        PC3        PC4\n",
       "0  -84.652451   -4.428224  -8.882381 -39.009572\n",
       "1  -84.348187  -28.540139  -7.578301 -39.773295\n",
       "2  -96.163866  115.471210 -17.903947 -78.895047\n",
       "3 -107.484284  -62.142089  -6.927148 -82.941026\n",
       "4  -79.607929  -17.947676  -8.239140 -39.513479"
      ]
     },
     "execution_count": 69,
     "metadata": {},
     "output_type": "execute_result"
    }
   ],
   "source": [
    "#print the reduced dimensiosn\n",
    "dpcaframe=pd.DataFrame(dpca, columns = ['PC1', 'PC2', 'PC3', 'PC4'])\n",
    "dpcaframe.head()"
   ]
  },
  {
   "cell_type": "code",
   "execution_count": 70,
   "metadata": {},
   "outputs": [
    {
     "data": {
      "text/plain": [
       "KMeans(algorithm='auto', copy_x=True, init='k-means++', max_iter=300,\n",
       "    n_clusters=7, n_init=10, n_jobs=1, precompute_distances='auto',\n",
       "    random_state=None, tol=0.0001, verbose=0)"
      ]
     },
     "execution_count": 70,
     "metadata": {},
     "output_type": "execute_result"
    }
   ],
   "source": [
    "###d. Perform Clustering again on PCA dimension reduced data\n",
    "#Fit K-means with PCA dimension reduced data\n",
    "kmeans.fit(dpca)"
   ]
  },
  {
   "cell_type": "code",
   "execution_count": 75,
   "metadata": {},
   "outputs": [
    {
     "name": "stdout",
     "output_type": "stream",
     "text": [
      "[0 0 4 ... 4 4 4]\n"
     ]
    }
   ],
   "source": [
    "#print cluster lables\n",
    "labels=kmeans.labels_\n",
    "print(labels)"
   ]
  },
  {
   "cell_type": "code",
   "execution_count": 77,
   "metadata": {},
   "outputs": [
    {
     "name": "stdout",
     "output_type": "stream",
     "text": [
      "[[-49.10902183 -47.14978669  -4.04114603 -66.86257491]\n",
      " [164.30263442 -73.01705782  -6.94330726   0.80914698]\n",
      " [ 53.37283766  50.84930814 731.14733422 -14.24007736]\n",
      " [-51.61777445 -63.2091209    2.76858241  30.8192427 ]\n",
      " [-60.70624919  73.93007085  -9.10514271  18.46271688]\n",
      " [ 20.51623091  55.95816127  -2.10223186 -18.65743094]\n",
      " [209.94575005  48.1312783  -16.18429329   4.47926133]]\n"
     ]
    }
   ],
   "source": [
    "#print centroids\n",
    "centroids=kmeans.cluster_centers_  \n",
    "print(centroids)"
   ]
  },
  {
   "cell_type": "code",
   "execution_count": 78,
   "metadata": {},
   "outputs": [
    {
     "data": {
      "text/html": [
       "<div>\n",
       "<style scoped>\n",
       "    .dataframe tbody tr th:only-of-type {\n",
       "        vertical-align: middle;\n",
       "    }\n",
       "\n",
       "    .dataframe tbody tr th {\n",
       "        vertical-align: top;\n",
       "    }\n",
       "\n",
       "    .dataframe thead th {\n",
       "        text-align: right;\n",
       "    }\n",
       "</style>\n",
       "<table border=\"1\" class=\"dataframe\">\n",
       "  <thead>\n",
       "    <tr style=\"text-align: right;\">\n",
       "      <th></th>\n",
       "      <th>Cluster 1</th>\n",
       "      <th>Cluster 2</th>\n",
       "      <th>Cluster 3</th>\n",
       "      <th>Cluster 4</th>\n",
       "      <th>Cluster 5</th>\n",
       "      <th>Cluster 6</th>\n",
       "      <th>Cluster 7</th>\n",
       "    </tr>\n",
       "  </thead>\n",
       "  <tbody>\n",
       "    <tr>\n",
       "      <th>PC 1</th>\n",
       "      <td>-49.109022</td>\n",
       "      <td>164.302634</td>\n",
       "      <td>53.372838</td>\n",
       "      <td>-51.617774</td>\n",
       "      <td>-60.706249</td>\n",
       "      <td>20.516231</td>\n",
       "      <td>209.945750</td>\n",
       "    </tr>\n",
       "    <tr>\n",
       "      <th>PC 2</th>\n",
       "      <td>-47.149787</td>\n",
       "      <td>-73.017058</td>\n",
       "      <td>50.849308</td>\n",
       "      <td>-63.209121</td>\n",
       "      <td>73.930071</td>\n",
       "      <td>55.958161</td>\n",
       "      <td>48.131278</td>\n",
       "    </tr>\n",
       "    <tr>\n",
       "      <th>PC 3</th>\n",
       "      <td>-4.041146</td>\n",
       "      <td>-6.943307</td>\n",
       "      <td>731.147334</td>\n",
       "      <td>2.768582</td>\n",
       "      <td>-9.105143</td>\n",
       "      <td>-2.102232</td>\n",
       "      <td>-16.184293</td>\n",
       "    </tr>\n",
       "    <tr>\n",
       "      <th>PC 4</th>\n",
       "      <td>-66.862575</td>\n",
       "      <td>0.809147</td>\n",
       "      <td>-14.240077</td>\n",
       "      <td>30.819243</td>\n",
       "      <td>18.462717</td>\n",
       "      <td>-18.657431</td>\n",
       "      <td>4.479261</td>\n",
       "    </tr>\n",
       "  </tbody>\n",
       "</table>\n",
       "</div>"
      ],
      "text/plain": [
       "      Cluster 1   Cluster 2   Cluster 3  Cluster 4  Cluster 5   Cluster 6  \\\n",
       "PC 1 -49.109022  164.302634   53.372838 -51.617774 -60.706249   20.516231   \n",
       "PC 2 -47.149787  -73.017058   50.849308 -63.209121  73.930071   55.958161   \n",
       "PC 3  -4.041146   -6.943307  731.147334   2.768582  -9.105143   -2.102232   \n",
       "PC 4 -66.862575    0.809147  -14.240077  30.819243  18.462717  -18.657431   \n",
       "\n",
       "       Cluster 7  \n",
       "PC 1  209.945750  \n",
       "PC 2   48.131278  \n",
       "PC 3  -16.184293  \n",
       "PC 4    4.479261  "
      ]
     },
     "execution_count": 78,
     "metadata": {},
     "output_type": "execute_result"
    }
   ],
   "source": [
    "#form the new centroids into frame\n",
    "pd.DataFrame(kmeans.cluster_centers_.T, index = ['PC 1', 'PC 2', 'PC 3', 'PC 4'], columns = ['Cluster 1', 'Cluster 2','Cluster 3','Cluster 4','Cluster 5',' Cluster 6','Cluster 7'])"
   ]
  },
  {
   "cell_type": "code",
   "execution_count": 79,
   "metadata": {},
   "outputs": [
    {
     "name": "stdout",
     "output_type": "stream",
     "text": [
      "0.5449633844698588\n"
     ]
    }
   ],
   "source": [
    "#The completeness scores \n",
    "cscore = completeness_score(segclass['value'], labels)\n",
    "print(cscore)"
   ]
  },
  {
   "cell_type": "code",
   "execution_count": 81,
   "metadata": {},
   "outputs": [
    {
     "name": "stdout",
     "output_type": "stream",
     "text": [
      "0.4832065291324426\n"
     ]
    }
   ],
   "source": [
    "#The honogeneity scores \n",
    "hscore = homogeneity_score(segclass['value'], labels)\n",
    "print(hscore)"
   ]
  }
 ],
 "metadata": {
  "kernelspec": {
   "display_name": "Python 3",
   "language": "python",
   "name": "python3"
  },
  "language_info": {
   "codemirror_mode": {
    "name": "ipython",
    "version": 3
   },
   "file_extension": ".py",
   "mimetype": "text/x-python",
   "name": "python",
   "nbconvert_exporter": "python",
   "pygments_lexer": "ipython3",
   "version": "3.6.5"
  }
 },
 "nbformat": 4,
 "nbformat_minor": 2
}
